{
 "cells": [
  {
   "cell_type": "markdown",
   "metadata": {},
   "source": [
    "### Self Organizing Map"
   ]
  },
  {
   "cell_type": "code",
   "execution_count": 1,
   "metadata": {},
   "outputs": [],
   "source": [
    "# initializing\n",
    "from SOM import SOM\n",
    "import numpy as np"
   ]
  },
  {
   "cell_type": "code",
   "execution_count": 2,
   "metadata": {},
   "outputs": [
    {
     "name": "stdout",
     "output_type": "stream",
     "text": [
      "Started training...\n"
     ]
    },
    {
     "name": "stderr",
     "output_type": "stream",
     "text": [
      "  0%|          | 0/100 [00:00<?, ?it/s]\n"
     ]
    },
    {
     "ename": "ValueError",
     "evalue": "operands could not be broadcast together with shapes (5,3) (10,10,3) ",
     "output_type": "error",
     "traceback": [
      "\u001b[1;31m---------------------------------------------------------------------------\u001b[0m",
      "\u001b[1;31mValueError\u001b[0m                                Traceback (most recent call last)",
      "\u001b[1;32mc:\\Users\\Faaz\\Habib University\\Spring 2022\\Computational Intelligence\\Assignment 3\\Question 02\\main.ipynb Cell 3'\u001b[0m in \u001b[0;36m<module>\u001b[1;34m\u001b[0m\n\u001b[0;32m      <a href='vscode-notebook-cell:/c%3A/Users/Faaz/Habib%20University/Spring%202022/Computational%20Intelligence/Assignment%203/Question%2002/main.ipynb#ch0000002?line=2'>3</a>\u001b[0m \u001b[39m# input_vector = np.array([\u001b[39;00m\n\u001b[0;32m      <a href='vscode-notebook-cell:/c%3A/Users/Faaz/Habib%20University/Spring%202022/Computational%20Intelligence/Assignment%203/Question%2002/main.ipynb#ch0000002?line=3'>4</a>\u001b[0m \u001b[39m#     [255, 0, 0],\u001b[39;00m\n\u001b[0;32m      <a href='vscode-notebook-cell:/c%3A/Users/Faaz/Habib%20University/Spring%202022/Computational%20Intelligence/Assignment%203/Question%2002/main.ipynb#ch0000002?line=4'>5</a>\u001b[0m \u001b[39m#     [0, 255, 0],\u001b[39;00m\n\u001b[1;32m   (...)\u001b[0m\n\u001b[0;32m      <a href='vscode-notebook-cell:/c%3A/Users/Faaz/Habib%20University/Spring%202022/Computational%20Intelligence/Assignment%203/Question%2002/main.ipynb#ch0000002?line=8'>9</a>\u001b[0m \u001b[39m#     [255, 0, 255],\u001b[39;00m\n\u001b[0;32m     <a href='vscode-notebook-cell:/c%3A/Users/Faaz/Habib%20University/Spring%202022/Computational%20Intelligence/Assignment%203/Question%2002/main.ipynb#ch0000002?line=9'>10</a>\u001b[0m \u001b[39m# ])\u001b[39;00m\n\u001b[0;32m     <a href='vscode-notebook-cell:/c%3A/Users/Faaz/Habib%20University/Spring%202022/Computational%20Intelligence/Assignment%203/Question%2002/main.ipynb#ch0000002?line=10'>11</a>\u001b[0m rgb_som \u001b[39m=\u001b[39m SOM(map_size\u001b[39m=\u001b[39m(\u001b[39m10\u001b[39m,\u001b[39m10\u001b[39m) ,learning_rate\u001b[39m=\u001b[39m\u001b[39m0.1\u001b[39m,epochs\u001b[39m=\u001b[39m\u001b[39m100\u001b[39m)\n\u001b[1;32m---> <a href='vscode-notebook-cell:/c%3A/Users/Faaz/Habib%20University/Spring%202022/Computational%20Intelligence/Assignment%203/Question%2002/main.ipynb#ch0000002?line=11'>12</a>\u001b[0m rgb_som\u001b[39m.\u001b[39;49mtrain(input_vector)\n",
      "File \u001b[1;32mc:\\Users\\Faaz\\Habib University\\Spring 2022\\Computational Intelligence\\Assignment 3\\Question 02\\SOM.py:40\u001b[0m, in \u001b[0;36mSOM.train\u001b[1;34m(self, training_data)\u001b[0m\n\u001b[0;32m     <a href='file:///c%3A/Users/Faaz/Habib%20University/Spring%202022/Computational%20Intelligence/Assignment%203/Question%2002/SOM.py?line=37'>38</a>\u001b[0m \u001b[39m# iterating over all training data and train the SOM\u001b[39;00m\n\u001b[0;32m     <a href='file:///c%3A/Users/Faaz/Habib%20University/Spring%202022/Computational%20Intelligence/Assignment%203/Question%2002/SOM.py?line=38'>39</a>\u001b[0m \u001b[39mfor\u001b[39;00m data \u001b[39min\u001b[39;00m training_data:\n\u001b[1;32m---> <a href='file:///c%3A/Users/Faaz/Habib%20University/Spring%202022/Computational%20Intelligence/Assignment%203/Question%2002/SOM.py?line=39'>40</a>\u001b[0m     \u001b[39mself\u001b[39;49m\u001b[39m.\u001b[39;49m_train_on_element(data, learning_rate, neighborhood_radius)\n\u001b[0;32m     <a href='file:///c%3A/Users/Faaz/Habib%20University/Spring%202022/Computational%20Intelligence/Assignment%203/Question%2002/SOM.py?line=40'>41</a>\u001b[0m \u001b[39mself\u001b[39m\u001b[39m.\u001b[39mplot_map(epoch)\n",
      "File \u001b[1;32mc:\\Users\\Faaz\\Habib University\\Spring 2022\\Computational Intelligence\\Assignment 3\\Question 02\\SOM.py:46\u001b[0m, in \u001b[0;36mSOM._train_on_element\u001b[1;34m(self, element, learning_rate, neighborhood_radius)\u001b[0m\n\u001b[0;32m     <a href='file:///c%3A/Users/Faaz/Habib%20University/Spring%202022/Computational%20Intelligence/Assignment%203/Question%2002/SOM.py?line=43'>44</a>\u001b[0m \u001b[39mdef\u001b[39;00m \u001b[39m_train_on_element\u001b[39m(\u001b[39mself\u001b[39m, element, learning_rate, neighborhood_radius):\n\u001b[1;32m---> <a href='file:///c%3A/Users/Faaz/Habib%20University/Spring%202022/Computational%20Intelligence/Assignment%203/Question%2002/SOM.py?line=45'>46</a>\u001b[0m     distance_map \u001b[39m=\u001b[39m np\u001b[39m.\u001b[39mlinalg\u001b[39m.\u001b[39mnorm(element \u001b[39m-\u001b[39;49m \u001b[39mself\u001b[39;49m\u001b[39m.\u001b[39;49mmap, axis\u001b[39m=\u001b[39m\u001b[39m2\u001b[39m)\n\u001b[0;32m     <a href='file:///c%3A/Users/Faaz/Habib%20University/Spring%202022/Computational%20Intelligence/Assignment%203/Question%2002/SOM.py?line=46'>47</a>\u001b[0m     \u001b[39m# Get index of weight closest to training element\u001b[39;00m\n\u001b[0;32m     <a href='file:///c%3A/Users/Faaz/Habib%20University/Spring%202022/Computational%20Intelligence/Assignment%203/Question%2002/SOM.py?line=47'>48</a>\u001b[0m     winner \u001b[39m=\u001b[39m np\u001b[39m.\u001b[39munravel_index(np\u001b[39m.\u001b[39margmin(distance_map), distance_map\u001b[39m.\u001b[39mshape)\n",
      "\u001b[1;31mValueError\u001b[0m: operands could not be broadcast together with shapes (5,3) (10,10,3) "
     ]
    }
   ],
   "source": [
    "# input_vector = np.random.randint(0,256,(10,3))\n",
    "input_vector = np.random.random([5, 3])\n",
    "# input_vector = np.array([\n",
    "#     [255, 0, 0],\n",
    "#     [0, 255, 0],\n",
    "#     [0, 0, 255],\n",
    "#     [255, 255, 0],\n",
    "#     [0, 255, 255],\n",
    "#     [255, 0, 255],\n",
    "# ])\n",
    "rgb_som = SOM(map_size=(10,10) ,learning_rate=0.1,epochs=100)\n",
    "rgb_som.train(input_vector)"
   ]
  },
  {
   "cell_type": "code",
   "execution_count": null,
   "metadata": {},
   "outputs": [],
   "source": []
  }
 ],
 "metadata": {
  "interpreter": {
   "hash": "ac59ebe37160ed0dfa835113d9b8498d9f09ceb179beaac4002f036b9467c963"
  },
  "kernelspec": {
   "display_name": "Python 3.9.10 64-bit",
   "language": "python",
   "name": "python3"
  },
  "language_info": {
   "codemirror_mode": {
    "name": "ipython",
    "version": 3
   },
   "file_extension": ".py",
   "mimetype": "text/x-python",
   "name": "python",
   "nbconvert_exporter": "python",
   "pygments_lexer": "ipython3",
   "version": "3.9.10"
  },
  "orig_nbformat": 4
 },
 "nbformat": 4,
 "nbformat_minor": 2
}
